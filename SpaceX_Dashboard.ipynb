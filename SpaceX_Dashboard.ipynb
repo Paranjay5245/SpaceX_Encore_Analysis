{
    "cells": [
        {
            "cell_type": "code",
            "execution_count": 1,
            "metadata": {},
            "outputs": [],
            "source": "# Import required libraries\nimport pandas as pd\nimport dash\nimport dash_html_components as html\nimport dash_core_components as dcc\nfrom dash.dependencies import Input, Output\nimport plotly.express as px\nimport warnings\nwarnings.filterwarnings('ignore')"
        },
        {
            "cell_type": "code",
            "execution_count": 2,
            "metadata": {},
            "outputs": [],
            "source": "# Read the airline data into pandas dataframe\nspacex_df = pd.read_csv(\"spacex_launch_dash.csv\")"
        },
        {
            "cell_type": "code",
            "execution_count": 3,
            "metadata": {},
            "outputs": [],
            "source": "max_payload = spacex_df['Payload Mass (kg)'].max()\nmin_payload = spacex_df['Payload Mass (kg)'].min()"
        },
        {
            "cell_type": "code",
            "execution_count": 4,
            "metadata": {},
            "outputs": [],
            "source": "site=spacex_df[\"Launch Site\"].unique()\nsite_option=[] "
        },
        {
            "cell_type": "code",
            "execution_count": 5,
            "metadata": {},
            "outputs": [],
            "source": "for i in site:\n    site_option.append({\"label\":str(i),\"value\":str(i)})\n    \nsite_option.insert(0,{'label':'All Site','value':'All Site'})"
        },
        {
            "cell_type": "code",
            "execution_count": 6,
            "metadata": {},
            "outputs": [],
            "source": "# Create a dash application\napp = dash.Dash(__name__)"
        },
        {
            "cell_type": "code",
            "execution_count": 7,
            "metadata": {},
            "outputs": [],
            "source": "# Create an app layout\napp.layout = html.Div(children=[html.H1('SpaceX Launch Records Dashboard',\n                                        style={'textAlign': 'center', 'color': '#503D36',\n                                               'font-size': 40}),\n                                dcc.Dropdown(id='site-dropdown',options=site_option,placeholder=\"Select Site\",value=\"All Site\",\n                                         searchable=True,clearable=False),\n                                html.Br(),\n                                \n                                html.Div(dcc.Graph(id='success-pie-chart')),\n                                html.Br(),\n\n                                html.P(\"Payload range (Kg):\"),\n                               \n                                dcc.RangeSlider(id='payload-slider',min=0, max=10000, step=500,\n                                                                 marks={0: '0',\n                                                                       2500: '2500',\n                                                                       5000:'5000',\n                                                                       7500:'7500'},\n                                                          value=[min_payload, max_payload]),\n\n                                html.Div(dcc.Graph(id='success-payload-scatter-chart')),\n                                ])"
        },
        {
            "cell_type": "code",
            "execution_count": 8,
            "metadata": {},
            "outputs": [],
            "source": "@app.callback([Output(component_id='success-pie-chart', component_property='figure'),\n              Output(component_id='success-payload-scatter-chart', component_property='figure')],\n              [Input(component_id='site-dropdown', component_property='value'), \n               Input(component_id=\"payload-slider\", component_property=\"value\")])\n\ndef get_pie_chart(entered_site,payload):\n    filtered_df = spacex_df\n    if entered_site == 'All Site':\n        figpie = px.pie(filtered_df, values='class', \n        names=filtered_df[\"Launch Site\"], \n        title='For All sites')\n        data2=filtered_df[(filtered_df['Payload Mass (kg)']> payload[0]) & (filtered_df['Payload Mass (kg)']< payload[1])]\n        figscat=px.scatter(data2,x=\"Payload Mass (kg)\",y=\"class\",color=\"Booster Version Category\")\n        return figpie,figscat\n    \n    elif entered_site == 'CCAFS LC-40':\n        data=filtered_df[filtered_df[\"Launch Site\"]==\"CCAFS LC-40\"]\n        figpie = px.pie(data, values=data['class'].value_counts(), \n        names=data['class'].unique(), \n        title='CCAFS LC-40')\n        data2=filtered_df[(filtered_df['Payload Mass (kg)']>payload[0]) & (filtered_df['Payload Mass (kg)']< payload[1])\n                          & (filtered_df['Launch Site']=='CCAFS LC-40')]\n        figscat=px.scatter(data2,x=\"Payload Mass (kg)\",y=\"class\",color=\"Booster Version Category\")\n        return figpie,figscat\n    \n    elif entered_site == 'VAFB SLC-4E':\n        data=filtered_df[filtered_df[\"Launch Site\"]==\"VAFB SLC-4E\"]\n        figpie = px.pie(data, values=data['class'].value_counts(), \n        names=data['class'].unique(), \n        title='VAFB SLC-4E')\n        data2=filtered_df[(filtered_df['Payload Mass (kg)']>payload[0]) & (filtered_df['Payload Mass (kg)']< payload[1])\n                          & (filtered_df['Launch Site']=='VAFB SLC-4E')]\n        figscat=px.scatter(data2,x=\"Payload Mass (kg)\",y=\"class\",color=\"Booster Version Category\")\n        return figpie,figscat\n    \n    elif entered_site == 'KSC LC-39A':\n        data=filtered_df[filtered_df[\"Launch Site\"]==\"KSC LC-39A\"]\n        figpie = px.pie(data, values=data['class'].value_counts(), \n        names=data['class'].unique(), \n        title='KSC LC-39A')\n        data2=filtered_df[(filtered_df['Payload Mass (kg)']>payload[0]) & (filtered_df['Payload Mass (kg)']< payload[1])\n                          & (filtered_df['Launch Site']=='KSC LC-39A')]\n        figscat=px.scatter(data2,x=\"Payload Mass (kg)\",y=\"class\",color=\"Booster Version Category\")\n        return figpie,figscat\n    \n    elif entered_site == 'CCAFS SLC-40':\n        data=filtered_df[filtered_df[\"Launch Site\"]==\"CCAFS SLC-40\"]\n        figpie = px.pie(data, values=data['class'].value_counts(), \n        names=data['class'].unique(), \n        title='CCAFS SLC-40')\n        data2=filtered_df[(filtered_df['Payload Mass (kg)']>payload[0]) & (filtered_df['Payload Mass (kg)']< payload[1])\n                          & (filtered_df['Launch Site']=='CCAFS SLC-40')]\n        figscat=px.scatter(data2,x=\"Payload Mass (kg)\",y=\"class\",color=\"Booster Version Category\")\n        return figpie,figscat\n    "
        },
        {
            "cell_type": "code",
            "execution_count": 9,
            "metadata": {},
            "outputs": [
                {
                    "name": "stdout",
                    "output_type": "stream",
                    "text": "Dash is running on http://127.0.0.1:8050/\n\n * Serving Flask app \"__main__\" (lazy loading)\n * Environment: production\n   WARNING: This is a development server. Do not use it in a production deployment.\n   Use a production WSGI server instead.\n * Debug mode: off\n"
                },
                {
                    "name": "stderr",
                    "output_type": "stream",
                    "text": " * Running on http://127.0.0.1:8050/ (Press CTRL+C to quit)\n127.0.0.1 - - [12/Oct/2021 15:36:02] \"\u001b[37mGET / HTTP/1.1\u001b[0m\" 200 -\n127.0.0.1 - - [12/Oct/2021 15:36:02] \"\u001b[37mGET /_dash-dependencies HTTP/1.1\u001b[0m\" 200 -\n127.0.0.1 - - [12/Oct/2021 15:36:02] \"\u001b[37mGET /_dash-layout HTTP/1.1\u001b[0m\" 200 -\n127.0.0.1 - - [12/Oct/2021 15:36:03] \"\u001b[37mPOST /_dash-update-component HTTP/1.1\u001b[0m\" 200 -\n127.0.0.1 - - [12/Oct/2021 15:36:05] \"\u001b[37mPOST /_dash-update-component HTTP/1.1\u001b[0m\" 200 -\n127.0.0.1 - - [12/Oct/2021 15:36:09] \"\u001b[37mPOST /_dash-update-component HTTP/1.1\u001b[0m\" 200 -\n127.0.0.1 - - [12/Oct/2021 15:36:11] \"\u001b[37mPOST /_dash-update-component HTTP/1.1\u001b[0m\" 200 -\n127.0.0.1 - - [12/Oct/2021 15:36:13] \"\u001b[37mPOST /_dash-update-component HTTP/1.1\u001b[0m\" 200 -\n127.0.0.1 - - [12/Oct/2021 15:36:15] \"\u001b[37mPOST /_dash-update-component HTTP/1.1\u001b[0m\" 200 -\n127.0.0.1 - - [12/Oct/2021 15:36:18] \"\u001b[37mGET / HTTP/1.1\u001b[0m\" 200 -\n127.0.0.1 - - [12/Oct/2021 15:36:18] \"\u001b[37mGET /_dash-layout HTTP/1.1\u001b[0m\" 200 -\n127.0.0.1 - - [12/Oct/2021 15:36:18] \"\u001b[37mGET /_dash-dependencies HTTP/1.1\u001b[0m\" 200 -\n127.0.0.1 - - [12/Oct/2021 15:36:18] \"\u001b[37mGET /_favicon.ico?v=1.20.0 HTTP/1.1\u001b[0m\" 200 -\n127.0.0.1 - - [12/Oct/2021 15:36:18] \"\u001b[37mPOST /_dash-update-component HTTP/1.1\u001b[0m\" 200 -\n127.0.0.1 - - [12/Oct/2021 15:36:20] \"\u001b[37mPOST /_dash-update-component HTTP/1.1\u001b[0m\" 200 -\n"
                }
            ],
            "source": "# Run the app\nif __name__ == '__main__':\n    app.run_server()"
        },
        {
            "cell_type": "code",
            "execution_count": null,
            "metadata": {},
            "outputs": [],
            "source": ""
        }
    ],
    "metadata": {
        "kernelspec": {
            "display_name": "Python 3",
            "language": "python",
            "name": "python3"
        },
        "language_info": {
            "codemirror_mode": {
                "name": "ipython",
                "version": 3
            },
            "file_extension": ".py",
            "mimetype": "text/x-python",
            "name": "python",
            "nbconvert_exporter": "python",
            "pygments_lexer": "ipython3",
            "version": "3.7.6"
        }
    },
    "nbformat": 4,
    "nbformat_minor": 4
}